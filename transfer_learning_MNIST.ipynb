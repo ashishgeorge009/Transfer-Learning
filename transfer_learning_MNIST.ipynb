{
 "cells": [
  {
   "cell_type": "code",
   "execution_count": 1,
   "metadata": {},
   "outputs": [],
   "source": [
    "import numpy as np\n",
    "import matplotlib.pyplot as plt\n",
    "%matplotlib inline"
   ]
  },
  {
   "cell_type": "code",
   "execution_count": 2,
   "metadata": {},
   "outputs": [
    {
     "name": "stderr",
     "output_type": "stream",
     "text": [
      "Using TensorFlow backend.\n"
     ]
    }
   ],
   "source": [
    "from keras.utils import np_utils"
   ]
  },
  {
   "cell_type": "code",
   "execution_count": 3,
   "metadata": {},
   "outputs": [],
   "source": [
    "from keras.datasets import mnist\n",
    "(X_train,y_train), (X_test,y_test) = mnist.load_data()"
   ]
  },
  {
   "cell_type": "code",
   "execution_count": null,
   "metadata": {},
   "outputs": [],
   "source": []
  },
  {
   "cell_type": "code",
   "execution_count": 4,
   "metadata": {},
   "outputs": [
    {
     "name": "stdout",
     "output_type": "stream",
     "text": [
      "(60000, 28, 28) (60000,)\n",
      "(10000, 28, 28) (10000,)\n"
     ]
    }
   ],
   "source": [
    "print(X_train.shape,y_train.shape)\n",
    "print(X_test.shape,y_test.shape)"
   ]
  },
  {
   "cell_type": "code",
   "execution_count": 5,
   "metadata": {},
   "outputs": [],
   "source": [
    "pt_x_train =[]\n",
    "pt_y_train =[]\n",
    "pt_x_test =[]\n",
    "pt_y_test =[]\n",
    "\n",
    "tl_x_train =[]\n",
    "tl_y_train =[]\n",
    "tl_x_test =[]\n",
    "tl_y_test =[]"
   ]
  },
  {
   "cell_type": "code",
   "execution_count": 6,
   "metadata": {},
   "outputs": [],
   "source": [
    "# using first 20000\n",
    "m = 20000\n",
    "m2= 10000\n",
    "for i in range(m):\n",
    "    if y_train[i]<5:\n",
    "        pt_x_train.append(X_train[i]/255)\n",
    "        pt_y_train.append(y_train[i])\n",
    "    else:\n",
    "        tl_x_train.append(X_train[i]/255)\n",
    "        tl_y_train.append(y_train[i])\n",
    "        \n",
    "for i in range(m2):\n",
    "    if y_test[i]<5:\n",
    "        pt_x_test.append(X_test[i]/255)\n",
    "        pt_y_test.append(y_test[i])\n",
    "    else:\n",
    "        tl_x_test.append(X_test[i]/255)\n",
    "        tl_y_test.append(y_test[i])\n",
    "        "
   ]
  },
  {
   "cell_type": "code",
   "execution_count": 7,
   "metadata": {},
   "outputs": [],
   "source": [
    "pt_x_train = np.asarray(pt_x_train).reshape(-1,28,28,1)\n",
    "pt_y_train = np_utils.to_categorical(np.asarray(pt_y_train))\n",
    "\n",
    "pt_x_test = np.asarray(pt_x_test).reshape(-1,28,28,1)\n",
    "pt_y_test = np_utils.to_categorical(np.asarray(pt_y_test))\n",
    "\n",
    "tl_x_train = np.asarray(tl_x_train).reshape(-1,28,28,1)\n",
    "tl_y_train = np_utils.to_categorical(np.asarray(tl_y_train))\n",
    "\n",
    "tl_x_test = np.asarray(tl_x_test).reshape(-1,28,28,1)\n",
    "tl_y_test = np_utils.to_categorical(np.asarray(tl_y_test))"
   ]
  },
  {
   "cell_type": "code",
   "execution_count": 8,
   "metadata": {},
   "outputs": [
    {
     "data": {
      "text/plain": [
       "array([[1., 0., 0., 0., 0.],\n",
       "       [0., 0., 0., 0., 1.],\n",
       "       [0., 1., 0., 0., 0.],\n",
       "       [0., 0., 1., 0., 0.],\n",
       "       [0., 1., 0., 0., 0.],\n",
       "       [0., 0., 0., 1., 0.],\n",
       "       [0., 1., 0., 0., 0.],\n",
       "       [0., 0., 0., 0., 1.],\n",
       "       [0., 0., 0., 1., 0.],\n",
       "       [0., 0., 0., 1., 0.]], dtype=float32)"
      ]
     },
     "execution_count": 8,
     "metadata": {},
     "output_type": "execute_result"
    }
   ],
   "source": [
    "pt_y_train[:10]"
   ]
  },
  {
   "cell_type": "code",
   "execution_count": 9,
   "metadata": {},
   "outputs": [
    {
     "name": "stdout",
     "output_type": "stream",
     "text": [
      "(10225, 28, 28, 1) (10225, 5)\n",
      "(5139, 28, 28, 1) (5139, 5)\n",
      "(9775, 28, 28, 1) (9775, 10)\n",
      "(4861, 28, 28, 1) (4861, 10)\n"
     ]
    }
   ],
   "source": [
    "print(pt_x_train.shape, pt_y_train.shape)\n",
    "print(pt_x_test.shape, pt_y_test.shape)\n",
    "\n",
    "print(tl_x_train.shape, tl_y_train.shape)\n",
    "print(tl_x_test.shape, tl_y_test.shape)"
   ]
  },
  {
   "cell_type": "code",
   "execution_count": 10,
   "metadata": {},
   "outputs": [],
   "source": [
    "from keras.models import Sequential\n",
    "from keras.layers import Dense, Activation, Flatten, Conv2D, MaxPool2D, Dropout"
   ]
  },
  {
   "cell_type": "code",
   "execution_count": 11,
   "metadata": {},
   "outputs": [
    {
     "name": "stdout",
     "output_type": "stream",
     "text": [
      "Model: \"sequential_1\"\n",
      "_________________________________________________________________\n",
      "Layer (type)                 Output Shape              Param #   \n",
      "=================================================================\n",
      "conv2d_1 (Conv2D)            (None, 24, 24, 32)        832       \n",
      "_________________________________________________________________\n",
      "conv2d_2 (Conv2D)            (None, 20, 20, 16)        12816     \n",
      "_________________________________________________________________\n",
      "max_pooling2d_1 (MaxPooling2 (None, 10, 10, 16)        0         \n",
      "_________________________________________________________________\n",
      "conv2d_3 (Conv2D)            (None, 8, 8, 8)           1160      \n",
      "_________________________________________________________________\n",
      "flatten_1 (Flatten)          (None, 512)               0         \n",
      "_________________________________________________________________\n",
      "dropout_1 (Dropout)          (None, 512)               0         \n",
      "_________________________________________________________________\n",
      "dense_1 (Dense)              (None, 128)               65664     \n",
      "_________________________________________________________________\n",
      "activation_1 (Activation)    (None, 128)               0         \n",
      "_________________________________________________________________\n",
      "dense_2 (Dense)              (None, 5)                 645       \n",
      "_________________________________________________________________\n",
      "activation_2 (Activation)    (None, 5)                 0         \n",
      "=================================================================\n",
      "Total params: 81,117\n",
      "Trainable params: 81,117\n",
      "Non-trainable params: 0\n",
      "_________________________________________________________________\n"
     ]
    }
   ],
   "source": [
    "#Pre_Train\n",
    "model = Sequential()\n",
    "\n",
    "#(28,28,1)\n",
    "model.add(Conv2D(32,5,input_shape=(28,28,1), activation ='relu'))\n",
    "#(24,24,32)\n",
    "model.add(Conv2D(16,5,activation = \"relu\"))\n",
    "#(20,20,16)\n",
    "model.add(MaxPool2D(pool_size=(2,2)))\n",
    "#10,10,16\n",
    "model.add(Conv2D(8,3,activation = 'relu'))\n",
    "#(8,8,8)\n",
    "\n",
    "model.add(Flatten());\n",
    "\n",
    "model.add(Dropout(0.4))\n",
    "\n",
    "model.add(Dense(128))\n",
    "model.add(Activation(\"relu\"))\n",
    "\n",
    "model.add(Dense(5))\n",
    "model.add(Activation(\"softmax\"))\n",
    "\n",
    "model.summary()"
   ]
  },
  {
   "cell_type": "code",
   "execution_count": 17,
   "metadata": {},
   "outputs": [],
   "source": [
    "model.compile(loss=\"categorical_crossentropy\",\n",
    "             optimizer ='adam',\n",
    "             metrics = ['accuracy'])"
   ]
  },
  {
   "cell_type": "code",
   "execution_count": 18,
   "metadata": {},
   "outputs": [],
   "source": [
    "import datetime"
   ]
  },
  {
   "cell_type": "code",
   "execution_count": 19,
   "metadata": {},
   "outputs": [
    {
     "name": "stderr",
     "output_type": "stream",
     "text": [
      "/home/ashish/Documents/01project3.6_env/lib/python3.6/site-packages/ipykernel_launcher.py:7: UserWarning: The `nb_epoch` argument in `fit` has been renamed `epochs`.\n",
      "  import sys\n"
     ]
    },
    {
     "name": "stdout",
     "output_type": "stream",
     "text": [
      "Train on 10225 samples, validate on 5139 samples\n",
      "Epoch 1/10\n",
      " - 16s - loss: 0.3057 - accuracy: 0.9044 - val_loss: 0.0463 - val_accuracy: 0.9852\n",
      "Epoch 2/10\n",
      " - 16s - loss: 0.0749 - accuracy: 0.9768 - val_loss: 0.0356 - val_accuracy: 0.9893\n",
      "Epoch 3/10\n",
      " - 17s - loss: 0.0524 - accuracy: 0.9838 - val_loss: 0.0265 - val_accuracy: 0.9912\n",
      "Epoch 4/10\n",
      " - 18s - loss: 0.0409 - accuracy: 0.9871 - val_loss: 0.0170 - val_accuracy: 0.9944\n",
      "Epoch 5/10\n",
      " - 16s - loss: 0.0330 - accuracy: 0.9881 - val_loss: 0.0139 - val_accuracy: 0.9951\n",
      "Epoch 6/10\n",
      " - 14s - loss: 0.0261 - accuracy: 0.9911 - val_loss: 0.0182 - val_accuracy: 0.9946\n",
      "Epoch 7/10\n",
      " - 14s - loss: 0.0245 - accuracy: 0.9919 - val_loss: 0.0157 - val_accuracy: 0.9947\n",
      "Epoch 8/10\n",
      " - 14s - loss: 0.0175 - accuracy: 0.9937 - val_loss: 0.0124 - val_accuracy: 0.9965\n",
      "Epoch 9/10\n",
      " - 15s - loss: 0.0184 - accuracy: 0.9937 - val_loss: 0.0108 - val_accuracy: 0.9957\n",
      "Epoch 10/10\n",
      " - 24s - loss: 0.0126 - accuracy: 0.9959 - val_loss: 0.0097 - val_accuracy: 0.9963\n",
      "0:02:45.023480\n"
     ]
    }
   ],
   "source": [
    "start = datetime.datetime.now()\n",
    "model.fit(pt_x_train,pt_y_train,\n",
    "         validation_data=(pt_x_test,pt_y_test),\n",
    "         nb_epoch = 10,\n",
    "         shuffle=True,\n",
    "         batch_size =100,\n",
    "         verbose=2)\n",
    "end =datetime.datetime.now()\n",
    "print(end-start)"
   ]
  },
  {
   "cell_type": "code",
   "execution_count": 49,
   "metadata": {},
   "outputs": [
    {
     "name": "stdout",
     "output_type": "stream",
     "text": [
      "Model: \"sequential_1\"\n",
      "_________________________________________________________________\n",
      "Layer (type)                 Output Shape              Param #   \n",
      "=================================================================\n",
      "conv2d_1 (Conv2D)            (None, 24, 24, 32)        832       \n",
      "_________________________________________________________________\n",
      "conv2d_2 (Conv2D)            (None, 20, 20, 16)        12816     \n",
      "_________________________________________________________________\n",
      "max_pooling2d_1 (MaxPooling2 (None, 10, 10, 16)        0         \n",
      "_________________________________________________________________\n",
      "conv2d_3 (Conv2D)            (None, 8, 8, 8)           1160      \n",
      "_________________________________________________________________\n",
      "flatten_1 (Flatten)          (None, 512)               0         \n",
      "_________________________________________________________________\n",
      "dropout_1 (Dropout)          (None, 512)               0         \n",
      "_________________________________________________________________\n",
      "dense_1 (Dense)              (None, 128)               65664     \n",
      "_________________________________________________________________\n",
      "activation_1 (Activation)    (None, 128)               0         \n",
      "_________________________________________________________________\n",
      "dense_2 (Dense)              (None, 5)                 645       \n",
      "_________________________________________________________________\n",
      "activation_2 (Activation)    (None, 5)                 0         \n",
      "=================================================================\n",
      "Total params: 81,117\n",
      "Trainable params: 81,117\n",
      "Non-trainable params: 0\n",
      "_________________________________________________________________\n"
     ]
    }
   ],
   "source": [
    "model.summary()"
   ]
  },
  {
   "cell_type": "code",
   "execution_count": null,
   "metadata": {},
   "outputs": [],
   "source": [
    "##Trainable model"
   ]
  },
  {
   "cell_type": "code",
   "execution_count": 51,
   "metadata": {},
   "outputs": [
    {
     "name": "stdout",
     "output_type": "stream",
     "text": [
      "False\n",
      "False\n",
      "False\n",
      "False\n",
      "False\n",
      "False\n",
      "True\n",
      "True\n",
      "True\n",
      "True\n"
     ]
    }
   ],
   "source": [
    "for layer in model.layers[:6]:\n",
    "    layer.trainable = False\n",
    "for layer in model.layers:\n",
    "    print(layer.trainable)"
   ]
  },
  {
   "cell_type": "code",
   "execution_count": 53,
   "metadata": {},
   "outputs": [
    {
     "name": "stdout",
     "output_type": "stream",
     "text": [
      "Model: \"sequential_8\"\n",
      "_________________________________________________________________\n",
      "Layer (type)                 Output Shape              Param #   \n",
      "=================================================================\n",
      "conv2d_1 (Conv2D)            (None, 24, 24, 32)        832       \n",
      "_________________________________________________________________\n",
      "conv2d_2 (Conv2D)            (None, 20, 20, 16)        12816     \n",
      "_________________________________________________________________\n",
      "max_pooling2d_1 (MaxPooling2 (None, 10, 10, 16)        0         \n",
      "_________________________________________________________________\n",
      "conv2d_3 (Conv2D)            (None, 8, 8, 8)           1160      \n",
      "_________________________________________________________________\n",
      "flatten_1 (Flatten)          (None, 512)               0         \n",
      "_________________________________________________________________\n",
      "dropout_1 (Dropout)          (None, 512)               0         \n",
      "_________________________________________________________________\n",
      "dense_3 (Dense)              (None, 128)               65664     \n",
      "_________________________________________________________________\n",
      "activation_3 (Activation)    (None, 128)               0         \n",
      "_________________________________________________________________\n",
      "dense_4 (Dense)              (None, 10)                1290      \n",
      "_________________________________________________________________\n",
      "activation_4 (Activation)    (None, 10)                0         \n",
      "=================================================================\n",
      "Total params: 81,762\n",
      "Trainable params: 66,954\n",
      "Non-trainable params: 14,808\n",
      "_________________________________________________________________\n"
     ]
    }
   ],
   "source": [
    "##creating training model\n",
    "tl_model = Sequential(model.layers[:6])\n",
    "\n",
    "tl_model.add(Dense(128))\n",
    "tl_model.add(Activation(\"relu\"))\n",
    "\n",
    "tl_model.add(Dense(10))\n",
    "tl_model.add(Activation(\"softmax\"))\n",
    "\n",
    "tl_model.summary()"
   ]
  },
  {
   "cell_type": "code",
   "execution_count": 54,
   "metadata": {},
   "outputs": [],
   "source": [
    "tl_model.compile(loss=\"categorical_crossentropy\",\n",
    "             optimizer ='adam',\n",
    "             metrics = ['accuracy'])\n"
   ]
  },
  {
   "cell_type": "code",
   "execution_count": 55,
   "metadata": {},
   "outputs": [
    {
     "name": "stdout",
     "output_type": "stream",
     "text": [
      "Train on 9775 samples, validate on 4861 samples\n",
      "Epoch 1/10\n",
      " - 4s - loss: 0.3801 - accuracy: 0.8816 - val_loss: 0.0824 - val_accuracy: 0.9739\n",
      "Epoch 2/10\n",
      " - 4s - loss: 0.1104 - accuracy: 0.9643 - val_loss: 0.0579 - val_accuracy: 0.9827\n",
      "Epoch 3/10\n",
      " - 4s - loss: 0.0888 - accuracy: 0.9708 - val_loss: 0.0501 - val_accuracy: 0.9837\n",
      "Epoch 4/10\n",
      " - 4s - loss: 0.0715 - accuracy: 0.9771 - val_loss: 0.0427 - val_accuracy: 0.9868\n",
      "Epoch 5/10\n",
      " - 4s - loss: 0.0682 - accuracy: 0.9772 - val_loss: 0.0432 - val_accuracy: 0.9858\n",
      "Epoch 6/10\n",
      " - 4s - loss: 0.0567 - accuracy: 0.9824 - val_loss: 0.0396 - val_accuracy: 0.9881\n",
      "Epoch 7/10\n",
      " - 4s - loss: 0.0528 - accuracy: 0.9828 - val_loss: 0.0445 - val_accuracy: 0.9831\n",
      "Epoch 8/10\n",
      " - 4s - loss: 0.0504 - accuracy: 0.9829 - val_loss: 0.0375 - val_accuracy: 0.9870\n",
      "Epoch 9/10\n",
      " - 4s - loss: 0.0487 - accuracy: 0.9856 - val_loss: 0.0325 - val_accuracy: 0.9887\n",
      "Epoch 10/10\n",
      " - 4s - loss: 0.0474 - accuracy: 0.9838 - val_loss: 0.0377 - val_accuracy: 0.9870\n",
      "0:00:40.782061\n"
     ]
    }
   ],
   "source": [
    "start = datetime.datetime.now()\n",
    "tl_model.fit(tl_x_train,tl_y_train,\n",
    "         validation_data=(tl_x_test,tl_y_test),\n",
    "         epochs = 10,\n",
    "         shuffle=True,\n",
    "         batch_size =100,\n",
    "         verbose=2)\n",
    "end =datetime.datetime.now()\n",
    "print(end-start)"
   ]
  },
  {
   "cell_type": "code",
   "execution_count": 67,
   "metadata": {},
   "outputs": [
    {
     "data": {
      "text/plain": [
       "9"
      ]
     },
     "execution_count": 67,
     "metadata": {},
     "output_type": "execute_result"
    }
   ],
   "source": [
    "tl_model.predict(tl_x_test[3:4]).argmax()"
   ]
  },
  {
   "cell_type": "code",
   "execution_count": 66,
   "metadata": {},
   "outputs": [
    {
     "data": {
      "image/png": "[encoded data removed]",
      "text/plain": [
       "<Figure size 432x288 with 1 Axes>"
      ]
     },
     "metadata": {
      "needs_background": "light"
     },
     "output_type": "display_data"
    }
   ],
   "source": [
    "plt.imshow(tl_x_test[3].reshape(28,28))\n",
    "plt.show()"
   ]
  },
  {
   "cell_type": "code",
   "execution_count": null,
   "metadata": {},
   "outputs": [],
   "source": []
  }
 ],
 "metadata": {
  "kernelspec": {
   "display_name": "Python 3",
   "language": "python",
   "name": "python3"
  },
  "language_info": {
   "codemirror_mode": {
    "name": "ipython",
    "version": 3
   },
   "file_extension": ".py",
   "mimetype": "text/x-python",
   "name": "python",
   "nbconvert_exporter": "python",
   "pygments_lexer": "ipython3",
   "version": "3.6.10"
  }
 },
 "nbformat": 4,
 "nbformat_minor": 4
}
